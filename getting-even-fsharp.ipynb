{
 "cells": [
  {
   "attachments": {},
   "cell_type": "markdown",
   "metadata": {},
   "source": [
    "# Getting Even - Coding Challenge - F#"
   ]
  },
  {
   "attachments": {},
   "cell_type": "markdown",
   "metadata": {},
   "source": [
    "## Description\n",
    "\n",
    "A coding challenge:\n",
    "1. There is a 4x6 grid.\n",
    "2. 18 spots must be filled in.\n",
    "3. The number of spots in each row &amp; column must be even.\n",
    "4. Print out a 4x6 grid (or equivalent) showing the result.\n",
    "\n",
    "## Solution Discussion\n",
    "The aim here is to create a functional solution in F#, for an arbitrary MxN grid.\n",
    "\n",
    "As an additional \"trick\", optimise for the case where the number of spots is > (M+N)/2 by instead solving for \"MxN - number of spots\" and then inverting the result.\n",
    "\n",
    "## Setup"
   ]
  },
  {
   "cell_type": "code",
   "execution_count": 4,
   "metadata": {
    "dotnet_interactive": {
     "language": "fsharp"
    },
    "polyglot_notebook": {
     "kernelName": "fsharp"
    },
    "vscode": {
     "languageId": "polyglot-notebook"
    }
   },
   "outputs": [],
   "source": [
    "let Mrows: int = 4 // must be even and > 0\n",
    "let Ncols: int = 6 // must be even and > 0\n",
    "let NumSpots: int = 18 // must be even and >= 4 and < Mrows*Ncols"
   ]
  },
  {
   "cell_type": "code",
   "execution_count": 5,
   "metadata": {
    "dotnet_interactive": {
     "language": "fsharp"
    },
    "polyglot_notebook": {
     "kernelName": "fsharp"
    },
    "vscode": {
     "languageId": "polyglot-notebook"
    }
   },
   "outputs": [],
   "source": [
    "let isEven x = (x % 2) = 0\n",
    "\n",
    "let boolToInt b =\n",
    "    match b with\n",
    "    | true -> 1\n",
    "    | false -> 0\n",
    "\n",
    "let invert (b:Boolean) = not b\n",
    "\n",
    "let check (testValue: Boolean) (checkMessage: String) =\n",
    "    if (not testValue) then raise (Exception checkMessage)\n",
    "\n",
    "let checkGridParams (mrows:int) (ncols:int): unit =\n",
    "    check ((mrows > 0) && isEven(mrows)) (sprintf \"invalid mrows: %d\" mrows)\n",
    "    check ((ncols > 0) && isEven(ncols)) (sprintf \"invalid ncols: %d\" ncols)\n",
    "\n",
    "let checkProblemParams (mrows:int) (ncols:int) (numSpots:int): unit =\n",
    "    checkGridParams mrows ncols\n",
    "    let maxSpots = mrows*ncols\n",
    "    check ((numSpots >= 4) && (numSpots < maxSpots) && isEven(numSpots)) (sprintf \"invalid numSpots: %d\" numSpots)"
   ]
  },
  {
   "cell_type": "code",
   "execution_count": 43,
   "metadata": {
    "dotnet_interactive": {
     "language": "fsharp"
    },
    "polyglot_notebook": {
     "kernelName": "fsharp"
    },
    "vscode": {
     "languageId": "polyglot-notebook"
    }
   },
   "outputs": [
    {
     "name": "stdout",
     "output_type": "stream",
     "text": [
      "#spots = 18; optimal #spots = 6\n"
     ]
    }
   ],
   "source": [
    "let MaxSpots = Mrows * Ncols\n",
    "let OptimalNumSpots = Math.Min(NumSpots, MaxSpots - NumSpots)\n",
    "printfn \"#spots = %d; optimal #spots = %d\" NumSpots OptimalNumSpots"
   ]
  },
  {
   "attachments": {},
   "cell_type": "markdown",
   "metadata": {},
   "source": [
    "## Grid Implementation"
   ]
  },
  {
   "attachments": {},
   "cell_type": "markdown",
   "metadata": {},
   "source": [
    "We need to support the concept of a grid of Boolean \"spots\" that we can set (to true) or reset (to false)."
   ]
  },
  {
   "cell_type": "code",
   "execution_count": 20,
   "metadata": {
    "dotnet_interactive": {
     "language": "fsharp"
    },
    "polyglot_notebook": {
     "kernelName": "fsharp"
    },
    "vscode": {
     "languageId": "polyglot-notebook"
    }
   },
   "outputs": [],
   "source": [
    "let updateList<'a> (newValue:'a) (index:int) (aList: 'a list): 'a list =\n",
    "    List.concat [aList |> List.take (index); [newValue] ; aList |> List.skip (index+1)]\n",
    "\n",
    "let rec ListToReversedCols<'a> (rows: int) (acc: 'a list list) (isSpot: 'a list): 'a list list =\n",
    "    match isSpot with\n",
    "    | [] -> acc\n",
    "    | spotList ->\n",
    "        let nextCol = isSpot |> List.take rows\n",
    "        ListToReversedCols rows (nextCol::acc) (isSpot |> List.skip rows)\n",
    "\n",
    "let SpotsToString (isSpot: Boolean list): String =\n",
    "    isSpot |> List.map (fun spot -> if (spot) then \"X\" else \"_\") |> String.concat \" \"\n",
    "\n",
    "type Grid =\n",
    "    { Rows: int; Cols: int; IsSpot: Boolean list } // IsSpot is column-by-column list of Boolean values\n",
    "\n",
    "    member this.CheckValid(): unit =\n",
    "        assert(this.IsSpot.Length = this.Rows*this.Cols)\n",
    "    \n",
    "    member this.GetColumns(): Boolean list list =\n",
    "        let reversedResult: Boolean list list = ListToReversedCols this.Rows [[]] this.IsSpot\n",
    "        reversedResult |> List.rev |> List.tail // reverse the results list and remove the initial empty list\n",
    "\n",
    "    member this.GetRows(): Boolean list list =\n",
    "        let cols = this.GetColumns()\n",
    "        seq{\n",
    "            for idx in 0 .. (this.Rows-1) do\n",
    "                yield cols |> List.map (fun col -> col.[idx])\n",
    "         } |> Seq.toList\n",
    "    \n",
    "    member this.ToGridString(): String =\n",
    "        let rows = this.GetRows()\n",
    "        rows |> List.map SpotsToString |> String.concat \"\\n\"\n",
    "\n",
    "    member this.UpdateIndex (index: int) (newValue:Boolean): Grid =\n",
    "        let result = {this with Grid.IsSpot = (updateList newValue index this.IsSpot)}\n",
    "        result.CheckValid()\n",
    "        result\n",
    "    \n",
    "    member this.Update (row:int) (col:int) (newValue:Boolean): Grid =\n",
    "        this.UpdateIndex (col*this.Rows+row) newValue\n",
    "            \n",
    "    member this.Set (row:int) (col:int): Grid = this.Update row col true\n",
    "\n",
    "    member this.Reset (row:int) (col:int): Grid = this.Update row col false\n",
    "\n",
    "    member this.SetIndices (indices: int list): Grid =\n",
    "        match indices with\n",
    "        | [] -> this\n",
    "        | head::tail -> (this.UpdateIndex head true).SetIndices(tail)\n",
    "    \n",
    "    member this.IsValidSolution (): Boolean = // check if every row and column has an even number of \"spots\"\n",
    "        let columnsValid = (this.GetColumns() |> List.map (fun column -> column |> List.map boolToInt |> List.sum |> isEven) |> List.filter (fun bool -> not bool) |> List.length) = 0\n",
    "        if (columnsValid)\n",
    "        then\n",
    "            let rowsValid = (this.GetRows() |> List.map (fun column -> column |> List.map boolToInt |> List.sum |> isEven) |> List.filter (fun bool -> not bool) |> List.length) = 0\n",
    "            rowsValid\n",
    "        else false\n",
    "    \n",
    "    member this.Invert: Grid = {this with Grid.IsSpot = this.IsSpot |> List.map invert}\n",
    "\n",
    "    static member NewFalseGrid (mrows:int) (ncols:int): Grid =\n",
    "        let result = {Rows = mrows; Cols = ncols; IsSpot = (List.init (mrows*ncols) (fun _ -> false))}\n",
    "        result.CheckValid()\n",
    "        result"
   ]
  },
  {
   "attachments": {},
   "cell_type": "markdown",
   "metadata": {},
   "source": [
    "Let's just test some of this code."
   ]
  },
  {
   "cell_type": "code",
   "execution_count": 21,
   "metadata": {
    "dotnet_interactive": {
     "language": "fsharp"
    },
    "polyglot_notebook": {
     "kernelName": "fsharp"
    },
    "vscode": {
     "languageId": "polyglot-notebook"
    }
   },
   "outputs": [
    {
     "data": {
      "text/html": [
       "<div class=\"dni-plaintext\"><pre>[ True, False, True ]</pre></div><style>\r\n",
       ".dni-code-hint {\r\n",
       "    font-style: italic;\r\n",
       "    overflow: hidden;\r\n",
       "    white-space: nowrap;\r\n",
       "}\r\n",
       ".dni-treeview {\r\n",
       "    white-space: nowrap;\r\n",
       "}\r\n",
       ".dni-treeview td {\r\n",
       "    vertical-align: top;\r\n",
       "    text-align: start;\r\n",
       "}\r\n",
       "details.dni-treeview {\r\n",
       "    padding-left: 1em;\r\n",
       "}\r\n",
       "table td {\r\n",
       "    text-align: start;\r\n",
       "}\r\n",
       "table tr { \r\n",
       "    vertical-align: top; \r\n",
       "    margin: 0em 0px;\r\n",
       "}\r\n",
       "table tr td pre \r\n",
       "{ \r\n",
       "    vertical-align: top !important; \r\n",
       "    margin: 0em 0px !important;\r\n",
       "} \r\n",
       "table th {\r\n",
       "    text-align: start;\r\n",
       "}\r\n",
       "</style>"
      ]
     },
     "metadata": {},
     "output_type": "display_data"
    }
   ],
   "source": [
    "updateList false 1 [true;true;true]"
   ]
  },
  {
   "cell_type": "code",
   "execution_count": 22,
   "metadata": {
    "dotnet_interactive": {
     "language": "fsharp"
    },
    "polyglot_notebook": {
     "kernelName": "fsharp"
    },
    "vscode": {
     "languageId": "polyglot-notebook"
    }
   },
   "outputs": [
    {
     "data": {
      "text/plain": [
       "X _ X _ X\n",
       "_ X _ X _\n",
       "X _ X _ X"
      ]
     },
     "metadata": {},
     "output_type": "display_data"
    }
   ],
   "source": [
    "let grid = (Grid.NewFalseGrid 3 5).SetIndices([0;2;4;6;8;10;12;14])\n",
    "grid.CheckValid()\n",
    "grid.ToGridString()"
   ]
  },
  {
   "cell_type": "code",
   "execution_count": 23,
   "metadata": {
    "dotnet_interactive": {
     "language": "fsharp"
    },
    "polyglot_notebook": {
     "kernelName": "fsharp"
    },
    "vscode": {
     "languageId": "polyglot-notebook"
    }
   },
   "outputs": [
    {
     "data": {
      "text/plain": [
       "X X X _ X\n",
       "_ X _ X _\n",
       "X _ X _ X"
      ]
     },
     "metadata": {},
     "output_type": "display_data"
    }
   ],
   "source": [
    "(grid.Set 0 1).ToGridString()"
   ]
  },
  {
   "attachments": {},
   "cell_type": "markdown",
   "metadata": {},
   "source": [
    "## Solution Logic"
   ]
  },
  {
   "attachments": {},
   "cell_type": "markdown",
   "metadata": {},
   "source": [
    "```nextIndices``` incremements a set of indices, starting by trying to increment the left-most index.\n",
    "If it can't increment it (already at the maximum), it sets that index to zero and tries to increment the index to its right, and so on.\n",
    "If it can't increase any index in a valid way, it returns 'None'.\n",
    "\n",
    "Importantly, **none of the indices are allowed to be the same**."
   ]
  },
  {
   "cell_type": "code",
   "execution_count": 24,
   "metadata": {
    "dotnet_interactive": {
     "language": "fsharp"
    },
    "polyglot_notebook": {
     "kernelName": "fsharp"
    },
    "vscode": {
     "languageId": "polyglot-notebook"
    }
   },
   "outputs": [],
   "source": [
    "let rec nextIndices (maxIndex: int) (indices: int list): (int list) option =\n",
    "    match indices with\n",
    "    | [] -> None\n",
    "    | _ ->\n",
    "        let result =\n",
    "            match indices.Head with\n",
    "            | idx when idx = maxIndex -> // can't increment the head of indices\n",
    "                let newTail = nextIndices maxIndex indices.Tail\n",
    "                match newTail with\n",
    "                | None -> None\n",
    "                | Some(tail) -> Some(0::tail)\n",
    "            | idx -> // can increment the head of indices\n",
    "                Some((idx + 1)::(indices.Tail))\n",
    "        if (result.IsNone)\n",
    "        then None\n",
    "        elif ((result.Value |> Set.ofList).Count < indices.Length)\n",
    "        then nextIndices maxIndex result.Value // if any two indices are the same, keep iterating\n",
    "        else result"
   ]
  },
  {
   "cell_type": "code",
   "execution_count": 25,
   "metadata": {
    "dotnet_interactive": {
     "language": "fsharp"
    },
    "polyglot_notebook": {
     "kernelName": "fsharp"
    },
    "vscode": {
     "languageId": "polyglot-notebook"
    }
   },
   "outputs": [
    {
     "data": {
      "text/html": [
       "<details open=\"open\" class=\"dni-treeview\"><summary><span class=\"dni-code-hint\"><code>Some([3; 2; 1; ... ])</code></span></summary><div><table><thead><tr></tr></thead><tbody><tr><td>Value</td><td><div class=\"dni-plaintext\"><pre>[ 3, 2, 1, 0 ]</pre></div></td></tr></tbody></table></div></details><style>\r\n",
       ".dni-code-hint {\r\n",
       "    font-style: italic;\r\n",
       "    overflow: hidden;\r\n",
       "    white-space: nowrap;\r\n",
       "}\r\n",
       ".dni-treeview {\r\n",
       "    white-space: nowrap;\r\n",
       "}\r\n",
       ".dni-treeview td {\r\n",
       "    vertical-align: top;\r\n",
       "    text-align: start;\r\n",
       "}\r\n",
       "details.dni-treeview {\r\n",
       "    padding-left: 1em;\r\n",
       "}\r\n",
       "table td {\r\n",
       "    text-align: start;\r\n",
       "}\r\n",
       "table tr { \r\n",
       "    vertical-align: top; \r\n",
       "    margin: 0em 0px;\r\n",
       "}\r\n",
       "table tr td pre \r\n",
       "{ \r\n",
       "    vertical-align: top !important; \r\n",
       "    margin: 0em 0px !important;\r\n",
       "} \r\n",
       "table th {\r\n",
       "    text-align: start;\r\n",
       "}\r\n",
       "</style>"
      ]
     },
     "metadata": {},
     "output_type": "display_data"
    }
   ],
   "source": [
    "nextIndices 3 [0;0;0;0]"
   ]
  },
  {
   "cell_type": "code",
   "execution_count": 26,
   "metadata": {
    "dotnet_interactive": {
     "language": "fsharp"
    },
    "polyglot_notebook": {
     "kernelName": "fsharp"
    },
    "vscode": {
     "languageId": "polyglot-notebook"
    }
   },
   "outputs": [
    {
     "data": {
      "text/html": [
       "<details open=\"open\" class=\"dni-treeview\"><summary><span class=\"dni-code-hint\"><code>Some([2; 3; 1; ... ])</code></span></summary><div><table><thead><tr></tr></thead><tbody><tr><td>Value</td><td><div class=\"dni-plaintext\"><pre>[ 2, 3, 1, 0 ]</pre></div></td></tr></tbody></table></div></details><style>\r\n",
       ".dni-code-hint {\r\n",
       "    font-style: italic;\r\n",
       "    overflow: hidden;\r\n",
       "    white-space: nowrap;\r\n",
       "}\r\n",
       ".dni-treeview {\r\n",
       "    white-space: nowrap;\r\n",
       "}\r\n",
       ".dni-treeview td {\r\n",
       "    vertical-align: top;\r\n",
       "    text-align: start;\r\n",
       "}\r\n",
       "details.dni-treeview {\r\n",
       "    padding-left: 1em;\r\n",
       "}\r\n",
       "table td {\r\n",
       "    text-align: start;\r\n",
       "}\r\n",
       "table tr { \r\n",
       "    vertical-align: top; \r\n",
       "    margin: 0em 0px;\r\n",
       "}\r\n",
       "table tr td pre \r\n",
       "{ \r\n",
       "    vertical-align: top !important; \r\n",
       "    margin: 0em 0px !important;\r\n",
       "} \r\n",
       "table th {\r\n",
       "    text-align: start;\r\n",
       "}\r\n",
       "</style>"
      ]
     },
     "metadata": {},
     "output_type": "display_data"
    }
   ],
   "source": [
    "nextIndices 3 [3;2;1;0]"
   ]
  },
  {
   "cell_type": "code",
   "execution_count": 29,
   "metadata": {
    "dotnet_interactive": {
     "language": "fsharp"
    },
    "polyglot_notebook": {
     "kernelName": "fsharp"
    },
    "vscode": {
     "languageId": "polyglot-notebook"
    }
   },
   "outputs": [
    {
     "data": {
      "text/html": [
       "<div class=\"dni-plaintext\"><pre>&lt;null&gt;</pre></div><style>\r\n",
       ".dni-code-hint {\r\n",
       "    font-style: italic;\r\n",
       "    overflow: hidden;\r\n",
       "    white-space: nowrap;\r\n",
       "}\r\n",
       ".dni-treeview {\r\n",
       "    white-space: nowrap;\r\n",
       "}\r\n",
       ".dni-treeview td {\r\n",
       "    vertical-align: top;\r\n",
       "    text-align: start;\r\n",
       "}\r\n",
       "details.dni-treeview {\r\n",
       "    padding-left: 1em;\r\n",
       "}\r\n",
       "table td {\r\n",
       "    text-align: start;\r\n",
       "}\r\n",
       "table tr { \r\n",
       "    vertical-align: top; \r\n",
       "    margin: 0em 0px;\r\n",
       "}\r\n",
       "table tr td pre \r\n",
       "{ \r\n",
       "    vertical-align: top !important; \r\n",
       "    margin: 0em 0px !important;\r\n",
       "} \r\n",
       "table th {\r\n",
       "    text-align: start;\r\n",
       "}\r\n",
       "</style>"
      ]
     },
     "metadata": {},
     "output_type": "display_data"
    }
   ],
   "source": [
    "nextIndices 3 [3;3;3;3] // Jupyter shows the result as <null> but it's really None."
   ]
  },
  {
   "attachments": {},
   "cell_type": "markdown",
   "metadata": {},
   "source": [
    "Now we look for a solution iteratively, by modifying the index locations of the \"spots\" and looking for the first spot configuration that is a solution."
   ]
  },
  {
   "cell_type": "code",
   "execution_count": 30,
   "metadata": {
    "dotnet_interactive": {
     "language": "fsharp"
    },
    "polyglot_notebook": {
     "kernelName": "fsharp"
    },
    "vscode": {
     "languageId": "polyglot-notebook"
    }
   },
   "outputs": [],
   "source": [
    "let solveGrid (mrows:int) (ncols:int) (numSpots:int): Boolean*Grid = // \"(success?, success grid)\n",
    "    checkProblemParams mrows ncols numSpots\n",
    "    let startGrid = Grid.NewFalseGrid mrows ncols\n",
    "    let rec iterateSolution (maxIndex:int) (indices:int list): Boolean*Grid =\n",
    "        let newIndices = nextIndices maxIndex indices\n",
    "        match newIndices with\n",
    "        | None -> (false, startGrid)\n",
    "        | Some(indices) ->\n",
    "            let newGrid = startGrid.SetIndices newIndices.Value\n",
    "            if (newGrid.IsValidSolution())\n",
    "            then (true, newGrid)\n",
    "            else iterateSolution maxIndex newIndices.Value\n",
    "    iterateSolution (mrows*ncols-1) (List.replicate numSpots 0)"
   ]
  },
  {
   "attachments": {},
   "cell_type": "markdown",
   "metadata": {},
   "source": [
    "## Run Solution"
   ]
  },
  {
   "cell_type": "code",
   "execution_count": 31,
   "metadata": {
    "dotnet_interactive": {
     "language": "fsharp"
    },
    "polyglot_notebook": {
     "kernelName": "fsharp"
    },
    "vscode": {
     "languageId": "polyglot-notebook"
    }
   },
   "outputs": [
    {
     "ename": "Error",
     "evalue": "input.fsx (1,43)-(1,58) typecheck error This expression was expected to have type\n    'int'    \nbut here has type\n    'int * int -> int * int'    \ninput.fsx (4,9)-(4,24) typecheck error The type '(int * int -> int * int)' does not support the 'equality' constraint because it is a function type\ninput.fsx (4,27)-(4,35) typecheck error This expression was expected to have type\n    'int * int -> int * int'    \nbut here has type\n    'int'    ",
     "output_type": "error",
     "traceback": [
      "input.fsx (1,43)-(1,58) typecheck error This expression was expected to have type\n",
      "    'int'    \n",
      "but here has type\n",
      "    'int * int -> int * int'    \n",
      "input.fsx (4,9)-(4,24) typecheck error The type '(int * int -> int * int)' does not support the 'equality' constraint because it is a function type\n",
      "input.fsx (4,27)-(4,35) typecheck error This expression was expected to have type\n",
      "    'int * int -> int * int'    \n",
      "but here has type\n",
      "    'int'    "
     ]
    }
   ],
   "source": [
    "let success, grid = solveGrid Mrows Ncols OptimalNumSpots\n",
    "if (success)\n",
    "then\n",
    "    if (OptimalNumSpots = NumSpots)\n",
    "    then printfn \"%A\" (grid.ToGridString())\n",
    "    else printfn \"%A\" (grid.Invert.ToGridString())\n",
    "else printfn \"FAILED: no solution found\""
   ]
  },
  {
   "attachments": {},
   "cell_type": "markdown",
   "metadata": {},
   "source": [
    "<span style=\"color:red;font-weight:bold\">!!!! The above solution is the wrong shape !!!!</span>"
   ]
  },
  {
   "cell_type": "code",
   "execution_count": null,
   "metadata": {
    "dotnet_interactive": {
     "language": "fsharp"
    },
    "polyglot_notebook": {
     "kernelName": "fsharp"
    },
    "vscode": {
     "languageId": "polyglot-notebook"
    }
   },
   "outputs": [],
   "source": [
    "grid"
   ]
  },
  {
   "cell_type": "code",
   "execution_count": null,
   "metadata": {
    "dotnet_interactive": {
     "language": "fsharp"
    },
    "polyglot_notebook": {
     "kernelName": "fsharp"
    },
    "vscode": {
     "languageId": "polyglot-notebook"
    }
   },
   "outputs": [],
   "source": [
    "grid.GetColumns()"
   ]
  },
  {
   "cell_type": "code",
   "execution_count": null,
   "metadata": {
    "dotnet_interactive": {
     "language": "fsharp"
    },
    "polyglot_notebook": {
     "kernelName": "fsharp"
    },
    "vscode": {
     "languageId": "polyglot-notebook"
    }
   },
   "outputs": [],
   "source": [
    "grid.GetRows()"
   ]
  },
  {
   "cell_type": "code",
   "execution_count": null,
   "metadata": {
    "dotnet_interactive": {
     "language": "fsharp"
    },
    "polyglot_notebook": {
     "kernelName": "fsharp"
    },
    "vscode": {
     "languageId": "polyglot-notebook"
    }
   },
   "outputs": [],
   "source": []
  }
 ],
 "metadata": {
  "language_info": {
   "name": "python"
  },
  "orig_nbformat": 4
 },
 "nbformat": 4,
 "nbformat_minor": 2
}
